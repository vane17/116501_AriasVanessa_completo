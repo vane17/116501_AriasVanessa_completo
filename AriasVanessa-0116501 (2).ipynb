{
 "cells": [
  {
   "cell_type": "markdown",
   "metadata": {},
   "source": [
    "##### TALLER 1"
   ]
  },
  {
   "cell_type": "markdown",
   "metadata": {},
   "source": [
    "   ##                      **CADENAS, LISTAS Y ESTRUCTURAS DE CONTROL**"
   ]
  },
  {
   "cell_type": "markdown",
   "metadata": {},
   "source": [
    "### UNIVERSIDAD NACIONAL DE COLOMBIA - SEDE MANIZALES"
   ]
  },
  {
   "cell_type": "markdown",
   "metadata": {},
   "source": [
    "##### ALUMNA: Vanessa Arias Arias            CODIGO:116501"
   ]
  },
  {
   "cell_type": "markdown",
   "metadata": {},
   "source": [
    "___"
   ]
  },
  {
   "cell_type": "markdown",
   "metadata": {},
   "source": [
    "###### DECISIONES Y CICLOS"
   ]
  },
  {
   "cell_type": "markdown",
   "metadata": {},
   "source": [
    "  1.  Sin utilizar el comando abs, escribir un programa que calcule e imprima el valor absoluto de cualquier numero (sea entero o decimal)."
   ]
  },
  {
   "cell_type": "markdown",
   "metadata": {},
   "source": [
    "*Para este ejercicio utilizaremos el comando '.find' para reconocer si el numero ingresado es un entero o decimal,  y de este modo la respuesta sea en el mismo tipo de variable a la ingresada.*"
   ]
  },
  {
   "cell_type": "code",
   "execution_count": 1,
   "metadata": {},
   "outputs": [
    {
     "name": "stdout",
     "output_type": "stream",
     "text": [
      "Ingrese numero:  -8936\n",
      "El valor absoluto del numero es:  8936\n"
     ]
    }
   ],
   "source": [
    "variable= input(\"Ingrese numero:  \")   # primero se ingresa un numero\n",
    "\n",
    "x=variable.find(\".\")                   # Se utiliza para saber si la variable es entera o decimal\n",
    "if x>=0:                               # verdadero si encuentra punto, lo que quiere decir que es decimal\n",
    "    variable= float (variable)         # float porque la variable ingresa como str\n",
    "    if variable <0:\n",
    "        variable=variable*-1           # para cambiar el signo por positivo si es un numero negativo\n",
    "         \n",
    "elif x <0:\n",
    "    variable= int(variable)            # int  porque la variable ingresa como str\n",
    "    if variable <0:\n",
    "        variable=variable*-1            # para cambiar el signo por positivo si es un numero negativo\n",
    "    \n",
    "print (\"El valor absoluto del numero es: \",variable)  "
   ]
  },
  {
   "cell_type": "markdown",
   "metadata": {},
   "source": [
    "2. Leer un número entero y escribirlo en reversa. Por ejemplo, 461975 será 579164. No utilizar comandos de ordenamiento. "
   ]
  },
  {
   "cell_type": "markdown",
   "metadata": {},
   "source": [
    "*Para este ejercicio se utiliza ciclo for lo cual nos permite iterar una cantidad definida de veces, en este caso será la longitud del numero ingresado.*"
   ]
  },
  {
   "cell_type": "code",
   "execution_count": 2,
   "metadata": {},
   "outputs": [
    {
     "name": "stdout",
     "output_type": "stream",
     "text": [
      "Ingrese numero: 89654123\n",
      "El numero en reversa corresponde es : 32145698\n"
     ]
    }
   ],
   "source": [
    "variable=input(\"Ingrese numero: \")      # primero se ingresa un numero\n",
    "x=len(variable)                         # se lee cuantos digitos tiene ese numero\n",
    "z=[]                                    # se crea una lista vacia para ir colocando los numeros en reversa\n",
    "for i in range(1,x+1):                  # hasta x+1 para que no se salga del rango\n",
    "    y=variable[x-i]                     # Y será la variable en la posicion x-i\n",
    "    z.append(y)                         # la variable Y se colocara en la lista Z en orden\n",
    "numinreves=\"\".join(z)                   #une todos los elementos de la lista Z lo cual queda en str\n",
    "print (\"El numero en reversa corresponde es :\",numinreves)"
   ]
  },
  {
   "cell_type": "markdown",
   "metadata": {},
   "source": [
    "3. Leer un número entero de 3 dígitos y determinar si contiene el dígito 8"
   ]
  },
  {
   "cell_type": "markdown",
   "metadata": {},
   "source": [
    "*Se pide como requisito tener tres dijitos, por lo tanto se utiliza el ciclo 'while' hasta que se cumpla la condición, luego se evalua si en estos tres dijitos se encuentra el numero 8 utilizando el comando 'if'*"
   ]
  },
  {
   "cell_type": "code",
   "execution_count": 3,
   "metadata": {},
   "outputs": [
    {
     "name": "stdout",
     "output_type": "stream",
     "text": [
      "Ingrese numero de tres digitos:  946235\n",
      "Excedio la cantidad de numeros por favor ingreselo nuevamente: 235\n",
      "El numero no contiene el digito  8\n"
     ]
    }
   ],
   "source": [
    "variable=input(\"Ingrese numero de tres digitos:  \")     # requisito tener 3 dijitos\n",
    "x=len(variable)                                         # se lee cuantos digitos entro\n",
    "while x<3 or x>3:                                       # si excede lo 3 digitos o no los tiene no es valido\n",
    "    variable=input(\"Excedio la cantidad de numeros por favor ingreselo nuevamente: \" )\n",
    "    x=len(variable)                                     #se lee nuevamente cuantos digistos tiene el nuevo numero\n",
    "    \n",
    "if variable[0]=='8' or variable[1]=='8' or variable [2]=='8': # se evalua cada posicion si contiene el numero 8\n",
    "    print (\"El numero contiene el digito  8\")\n",
    "\n",
    "else:                                                   # si en ninguno de los 3 digitos contiene el 8 se imprime:\n",
    "    print(\"El numero no contiene el digito  8\")"
   ]
  },
  {
   "cell_type": "markdown",
   "metadata": {},
   "source": [
    "4. Leer un número entero positivo y determinar la suma de sus dígitos pares. Por ejemplo, en el número 124, los dígitos pares son el 2 y el 4 y su suma vale 6."
   ]
  },
  {
   "cell_type": "markdown",
   "metadata": {},
   "source": [
    "*En este caso se tienen que cumplir 2 condiciones, primero que sea positivo y segundo que los números pares sean los que se sumen, para la primera condición se utiliza un ciclo ‘while’ y el segundo se utilizan dos ‘for’, el primero para sacar los números pares y el segundo para irlos sumando en cada paso.*"
   ]
  },
  {
   "cell_type": "code",
   "execution_count": 4,
   "metadata": {},
   "outputs": [
    {
     "name": "stdout",
     "output_type": "stream",
     "text": [
      "Ingrese numero positivo: 256328\n",
      "La suma de sus digitos pares [2, 6, 2, 8] es 18\n"
     ]
    }
   ],
   "source": [
    "variable= input(\"Ingrese numero positivo: \")         #se ingresa numero pero este tiene que ser positivo\n",
    "while int(variable)<0:                               # si el numero es negativo se ingresa nuevamente ya que la \n",
    "                                                     # condicion es ser positivo\n",
    "    variable=input(\"El numero es negativo, por favor ingreselo nuevamente: \")\n",
    "    \n",
    "x=len(variable)                                      # se leer cuantos digitos contiene el numero\n",
    "z=[]                                                 # se crea una lista vacia para agregar los elementos pares\n",
    "\n",
    "for i in range(0,x):                                 #rango desde 0 hasta la cantidad de digitos ingresados\n",
    "    y=int(variable[i])                               # se lee la variable pasandolo a tipo entero\n",
    "    if y%2==0:                                       # verdadero para los numeros pares \n",
    "        z.append(y)                                  #si se cumple la condicion se agrega dicho numero a la lista Z\n",
    "                                                     #la cual va a contener los numero pares\n",
    "\n",
    "m=len(z)                                             # se lee cuantos digitos pares se encontro \n",
    "l=0                                                  # para hacer el contador he ir sumando en cada iteracion\n",
    "for i in range(0,m):                                 # el rango va hasta la cantidad de digitos pares \n",
    "    l=z[i]+l                                         # se suma el numero en la posicion i con la suma de los anteriores\n",
    "print(\"La suma de sus digitos pares\",z,\"es\",l)"
   ]
  },
  {
   "cell_type": "markdown",
   "metadata": {},
   "source": [
    "5. Leer un número entero y determinar el número de cincos que están consecutivos en un número. Por ejemplo, en 5512355551 hay 6 cincos consecutivos. Ahora, en 234555234512 solo hay 3 cincos consecutivos."
   ]
  },
  {
   "cell_type": "markdown",
   "metadata": {},
   "source": [
    "*Dando que  por el ciclo ‘for’ se evalúa la posición i  y  la posición antes y después de este, se realiza aparte la condición del ultimo digito y el primero ya que si es el primero al restar i-1 da negativa por lo tanto realiza el indexado al revés*"
   ]
  },
  {
   "cell_type": "code",
   "execution_count": 5,
   "metadata": {},
   "outputs": [
    {
     "name": "stdout",
     "output_type": "stream",
     "text": [
      "ingrese numero: 589655589655\n",
      "El numero de cinco consecutivos es 5\n"
     ]
    }
   ],
   "source": [
    "variable=input(\"ingrese numero: \")\n",
    "\n",
    "while int(variable)<0:                              # si el numero es negativo se ingresa nuevamente ya que la condicion\n",
    "                                                    # es que sea positivo\n",
    "    variable=input(\"El numero es negativo, por favor ingreselo nuevamente: \")\n",
    "\n",
    "x=len(variable)                                     #se lee cuantos digitos tiene el numero \n",
    "r=0                                                 #r va hacer un contador de cada digito 5 que se encuentre\n",
    "for i in range(1,x-1):\n",
    "    y=int(variable[i])                              # evalua el digito en la posicion i\n",
    "    l=int(variable[i-1])                            # evalua  el digito antes de la posicion i\n",
    "    t=int(variable[i+1])                            # evalua el digito que sigue de la posicion i\n",
    "\n",
    "        \n",
    "    if y==5 and (l==5 or t==5):                    #evalua si en la posicion i se enuntra un 5 y\n",
    "                                                   # si antes o despues de la posicion i hay un 5\n",
    "        r=r+1                                      # se le suma una unidad por cada 5 que cumpla la condicion\n",
    "if int(variable[x-1])==5 and int(variable[x-2])==5: # como en el for por el i+1\n",
    "                                                   #no se evalua la ultima posicion, este se evaluara  aparte\n",
    "    r=r+1                                          # se le suma una unidad por cada 5 que cumpla la condicion\n",
    "if int(variable[0])==5 and int(variable[1])==5:    #como en el for en i=0 da -1\n",
    "                                                   # se hace aparte por valua el ultimo numero lo cual no es consecutivo\n",
    "                                                   #del primero por eso se separa\n",
    "    r=r+1                                          # se le suma una unidad por cada 5 que cumpla la condicion\n",
    "print (\"El numero de cinco consecutivos es\", r)"
   ]
  },
  {
   "cell_type": "markdown",
   "metadata": {},
   "source": [
    "6. Leer un número entero y determinar si la suma de sus dígitos es un número de Fibonacci."
   ]
  },
  {
   "cell_type": "markdown",
   "metadata": {},
   "source": [
    "*En este caso se hacen dos ‘for’ el primero es para hacer la suma de los dígitos del número ingresado y el segundo es para realizar la lista de los números de Fibonacci hasta el número 200, al final se utilizó un contador  ‘f’ el cual se le suma 1 cuando el numero corresponde a uno de los de Fibonacci*"
   ]
  },
  {
   "cell_type": "code",
   "execution_count": 6,
   "metadata": {},
   "outputs": [
    {
     "name": "stdout",
     "output_type": "stream",
     "text": [
      "ingrese numero: 8\n",
      " La suma de sus dígitos es 8  y es un número de Fibonacci.\n"
     ]
    }
   ],
   "source": [
    "variable= input (\"ingrese numero: \")             # primero se ingresa numero \n",
    "x=len(variable)                                  # se lee cuantos digitos tiene dicho numero\n",
    "l=0                                              # va hacer el contador de cada digito \n",
    "\n",
    "s=[]                                             # Lista la cual va acontener los numeros de Fibonacci\n",
    "\n",
    "for i in range(0,x):                             # Primer for para sumar los digitos del numero ingresado\n",
    "    l=int(variable[i])+l                         # se va sumando cada numero\n",
    "    \n",
    "f=0                                              # contador  para saber si se encuentra el numero de Fibonacci\n",
    "for i in range(0,200):                           # para hacer la sucesion de Fibonacci hasta el numero 200\n",
    "   \n",
    "    if i==0:                                     # ya que el primer digito es 0\n",
    "        i=0\n",
    "    elif i==1:                                   # el segundo digito va hacer 1\n",
    "        i=1\n",
    "    else: \n",
    "       i=s[i-1]+s[i-2]                           # ya desde la segunda posicion se empiza en 1 y se va sumando\n",
    "                                                 #los dos numero anteriores\n",
    "    s.append(i)                                  # se agrega la suma a la la lista s la cual contiene todos los\n",
    "                                                 #numeros de fibonacci\n",
    "    \n",
    "    if (l==i):                                   # si la suma de los digitos es igual a un numero de la lista s \n",
    "       f=f+1                                     # se le suma 1 al contador f\n",
    "       \n",
    "if f==1:                                         # si f contiene un 1 es porque la suma del numero es un numero de Fibonacci\n",
    "    print(\" La suma de sus dígitos es\",l,\" y es un número de Fibonacci.\")\n",
    "else:\n",
    "    print(\"La suma de sus dígitos es \",l,\" y no es un número de Fibonacci.\")\n",
    "    "
   ]
  },
  {
   "cell_type": "markdown",
   "metadata": {},
   "source": [
    "7. Leer un número entero positivo y determine si existen en el número dígitos repetidos. Reporte cuales son los dígitos repetidos."
   ]
  },
  {
   "cell_type": "code",
   "execution_count": 7,
   "metadata": {},
   "outputs": [
    {
     "name": "stdout",
     "output_type": "stream",
     "text": [
      "Digite numero: 55896599\n",
      "Los numemeros repetidos son ['5', '9'] y la cantidad de veces que se repiten       respectivamente es [3, 3]\n"
     ]
    }
   ],
   "source": [
    "variable=input(\"Digite numero: \")                # primero se ingresa un numero\n",
    "x=len(variable)                                  # se lee cuantos digitos tiene dicho numero\n",
    "l=[]                                             # se realiza una lista vacia el cual van a contener los digitos repetidos\n",
    "m=len(l)                                         # se lee cuantos digitos repetidos se encontro en el numero\n",
    "z=[]                                             # se realiza una lista vacia para especificar la cantidad de veces\n",
    "                                                 #que estos se repiten\n",
    "for i in range(0,x):                             # el primer for es para evaluar el digito  en la posicion i \n",
    "    for j in range(i,x):                         #  el segundo for busca evaluarlo con respecto a las otras posiciones\n",
    "        if i!=j:                                 # si las posiciones son diferentes las evalua\n",
    "            if variable[i]==variable[j] :        # se evalua si estos dos digitos son iguales\n",
    "                \n",
    "                if variable[i] not in l:         # para que no se repitan deben no deben  de estar en la lista l\n",
    "                    l.append(variable[i])        # si estos dos digitos son iguales agrega el numero repetido\n",
    "                                                 # se agrega a la lista l\n",
    "                    z.append(variable.count(variable[i])) #en la lista z indica cuantas veces se repite dicho numero\n",
    "                    \n",
    "print(\"Los numemeros repetidos son\",l,\"y la cantidad de veces que se repiten \\\n",
    "      respectivamente es\",z)              \n",
    "                "
   ]
  },
  {
   "cell_type": "markdown",
   "metadata": {},
   "source": [
    "8. Iterar a través de los primeros cien enteros positivos, buscando los múltiplos de 3 e imprimiendo y almacenándolos en una lista hasta encontrar los primeros 15 de ellos. Una vez encontrados, continuar iterando en busca de los múltiplos de 4 y almacenarlos en otra lista."
   ]
  },
  {
   "cell_type": "markdown",
   "metadata": {},
   "source": [
    "*Se realiza un ciclo ‘for’ para tener  100 números y poderlos evaluar, posteriormente realizamos 2 condiciones para el primer ‘if’ y es no haber encontrado los primero 15 numeros y que sea múltiplo de 3, para el segundo ‘if’  tiene que ser múltiplo de 4 y haber completado los primeros 15 números múltiplos de 3.*"
   ]
  },
  {
   "cell_type": "code",
   "execution_count": 9,
   "metadata": {},
   "outputs": [
    {
     "name": "stdout",
     "output_type": "stream",
     "text": [
      "Primeros Multiplos de 3 son [3, 6, 9, 12, 15, 18, 21, 24, 27, 30, 33, 36, 39, 42, 45] Multiplos de 4 son [48, 52, 56, 60, 64, 68, 72, 76, 80, 84, 88, 92, 96, 100]\n"
     ]
    }
   ],
   "source": [
    "\n",
    "limite = 15                                      # limite hasta el cual va a buscar multiplos de 3\n",
    "contador = 0                                     # va sumando cada multiplo de 3 que encuentra \n",
    "Multi3 = []                                      # lista de los primeros 15 numeros multiplos de 3\n",
    "Multi4 = []                                      # lista de multiplos de 4\n",
    "\n",
    "\n",
    "for i in range(1,101):                           #se realiza el rango hasta los 100 primeros numeros, se hace hasta 101\n",
    "                                                 #porque este ultimo no lo evalua\n",
    "\n",
    "    if i%3==0 and contador<limite:               # primera condicion si s multiplo de 3 y segunda que todavia no se \n",
    "                                                 #hallan encontrado los primeros 15 numeros\n",
    "            contador=contador+1                  # si encuentra un multiplo va sumando al contador\n",
    "            Multi3.append(i)                     # agraga dicho numero a la lista de multiplos de 3\n",
    "    \n",
    "    if i%4==0 and contador >=limite:             # multiplos de 4 despues de haber encontrado los multiplos de 3\n",
    "            Multi4.append(i)                     # agraga a la lista los multiplos de 4\n",
    "print (\"Primeros Multiplos de 3 son\",Multi3,\"Multiplos de 4 son\",Multi4)\n"
   ]
  },
  {
   "cell_type": "markdown",
   "metadata": {},
   "source": [
    "9. Hacer un programa que lea las coordenadas (x1,y1,r1) y (x2,y2,r2) que corresponden al centro y al radio de dos círculos.Lea un punto de coordenadas (a,b). Determina si (a,b) está contenido: a) dentro del círculo 1; b) dentro del círculo 2 c) dentro de ambos círculos; d) fuera de ambos círculos. Recordemos que el círculo es el lugar geométrico de los puntos del plano cuya distancia a otro punto fijo, llamado centro, es menor o igual que una cantidad constante, llamada radio."
   ]
  },
  {
   "cell_type": "markdown",
   "metadata": {},
   "source": [
    "*En este caso se pide que ingrese las coordenadas del centro de los dos círculos con sus radios igualmente se pide el punto el cual quiere saber si se encuentra dentro de los círculos, posteriormente se saca la ecuación de la circunferencia para ambos círculos; los que cumplan la ecuación es porque el punto está en dicho circulo; si la ecuación se cumple para ambos significa que  el punto está dentro de ambos círculos*"
   ]
  },
  {
   "cell_type": "code",
   "execution_count": 1,
   "metadata": {},
   "outputs": [
    {
     "name": "stdout",
     "output_type": "stream",
     "text": [
      "Digite la coordenada x del centro del circulo (1) :  8\n",
      "Digite la coordenada y delcentro del circulo (1) :  -9\n",
      "Digite el radio del circulo (1) :  -8\n",
      "no se puede un radio negativo ni cero, vuelve a                       ingresar el radio:8\n",
      "Digite la coordenada x del centro del circulo (2) : 9\n",
      "Digite la coordenada y del centro del circulo (2) :  7\n",
      "Digite el radio del circulo (2) : -7\n",
      "ingrese coordena x del punto que deseas saber si esta en los circulos :  4\n",
      "ingrese coordena y del punto que deseas saber si esta en los circulos:  8\n",
      "el centro y el radio del circulo (1) es respectivamente [8, -9, 8] el centro y el radio del circulo (2) es respectivamente [9, 7, -7]\n",
      "el punto( 4 , 8 )se encuentra dentro del circulo 2 \n"
     ]
    }
   ],
   "source": [
    "circ1=[]                                           # lista para el circulo 1 con la coordenadas del centro y radio\n",
    "circ2=[]                                           # lista para el circulo 2 con la coordenadas del centro y radio\n",
    "\n",
    "coordx1=int(input(\"Digite la coordenada x del centro del circulo (1) :  \" )) #para coordena del centro\n",
    "circ1.append(coordx1)                                                        #se agrega a la lista1\n",
    "coordy1=int(input(\"Digite la coordenada y delcentro del circulo (1) :  \"  )) #para coordena y den centro\n",
    "circ1.append(coordy1)\n",
    "radio1=int(input(\"Digite el radio del circulo (1) :  \" ))                    # para el radio 1 \n",
    "\n",
    "while radio1<=0:                                # condicion  ya que el radio no puede ser negativo\n",
    "    radio1 = int(input(\"no se puede un radio negativo ni cero, vuelve a\\\n",
    "                       ingresar el radio:\" ))\n",
    "circ1.append(radio1)\n",
    "coordx2=int(input(\"Digite la coordenada x del centro del circulo (2) : \" ))  #para coordena del centro\n",
    "circ2.append(coordx2)\n",
    "coordy2=int(input(\"Digite la coordenada y del centro del circulo (2) :  \" )) #para coordena y den centro\n",
    "circ2.append(coordy2)\n",
    "radio2=int(input(\"Digite el radio del circulo (2) : \" )) # para el radio 1 \n",
    "while radio1<=0:                               # condicion  ya que el radio no puede ser negativo\n",
    "    radio1 = int(input(\"no se puede un radio negativo ni cero, vuelve a\\\n",
    "                       ingresar el radio:\" ))\n",
    "circ2.append(radio2)\n",
    "\n",
    "x=int(input(\"ingrese coordena x del punto que deseas saber si esta en los circulos :  \"))\n",
    "y=int(input(\"ingrese coordena y del punto que deseas saber si esta en los circulos:  \"))\n",
    "print(\"el centro y el radio del circulo (1) es respectivamente\",circ1,\\\n",
    "      \"el centro y el radio del circulo (2) es respectivamente\",circ2)\n",
    "\n",
    "ecu1=(x-coordx1)**2+(y-coordy1)**2            #Ecuacion de la circunferencia para el circulo1\n",
    "ecu2=(x-coordx2)**2+(y-coordy2)**2            # Ecuacion de la circunferencia para el circulo2\n",
    "    \n",
    "if ecu1<=radio1**2 and ecu2>radio2**2:        #si la ecuacion es menor al radio es porque el punto esta dentro del circulo\n",
    "                                              #este caso solo lo cumple el circulo 1\n",
    "    print (\"el punto(\",x,\",\", y, \")se encuentra dentro del circulo 1 \" )\n",
    "    \n",
    "if ecu1>radio1**2 and ecu2<=radio2**2:        # solo lo cumple el circulo2\n",
    "    print(\"el punto(\",x,\",\", y, \")se encuentra dentro del circulo 2 \" )\n",
    "    \n",
    "if ecu1<=radio1**2 and ecu2<=radio2**2:\n",
    "    print(\"el punto(\",x,\",\", y, \")se encuentra dentro de los dos circulos \" )\n",
    "    \n",
    "if ecu1>radio1**2 and ecu2>radio2**2:\n",
    "    print(\"el punto(\",x,\",\", y, \") esta fuera de ambos circulos \" )"
   ]
  },
  {
   "cell_type": "markdown",
   "metadata": {},
   "source": [
    "#### CADENAS"
   ]
  },
  {
   "cell_type": "markdown",
   "metadata": {},
   "source": [
    "10.   Sin utilizar el método .upper() para cadenas, escribir un programa que lea una cadena de texto y la imprima en mayúscula. Tenga en cuenta que el programa debe aceptar las letras con tilde, la ñ y la ü. "
   ]
  },
  {
   "cell_type": "markdown",
   "metadata": {},
   "source": [
    "\n",
    "*En este punto se tiene en cuenta el código ASCII en el cual se especifica los numero que le corresponde a las letras, en este caso se parte las minúsculas y las mayúsculas siendo una diferencia de 32 y menores a 123,pero  siendo una excepción la letra ñ y las tildes ya que estas tiene un número mayor a 200 pero teniendo la misma diferencia de 32*\n"
   ]
  },
  {
   "cell_type": "code",
   "execution_count": 1,
   "metadata": {},
   "outputs": [
    {
     "name": "stdout",
     "output_type": "stream",
     "text": [
      "ingrese cadena de texto:  HOLA como Estas\n",
      "hola COMO eSTAS\n"
     ]
    }
   ],
   "source": [
    "variable= list(input(\"ingrese cadena de texto:  \"))      #Primero lee un texto\n",
    "x=len(variable)                                          # se cuenta cuantos caracteres entraron para hacer el rango for\n",
    "\n",
    "for i in range(0,x):\n",
    "    if ord(variable[i])>=65 and ord(variable[i])<=90:    # Codigo ASCII (si es menor es mayuscula)\n",
    "        variable[i]=chr(ord(variable[i])+32)             #Se le suma 32 para volverlo minuscula\n",
    "        \n",
    "    elif ord(variable[i])>=97 and ord(variable[i])<123:  # Codifo ASCII (si es mayor es minuscula)\n",
    "        variable[i]=chr(ord(variable[i])-32)             #se le reta 32 para que sea mayuscula\n",
    "        \n",
    "    if ord(variable[i])==209 or ord(variable[i])==220 :  # si es ñ o ü, #codigos ASCII\n",
    "        variable[i]=chr(ord(variable[i])+32)             #se le suma 32 porque es minuscula\n",
    "        \n",
    "    elif ord(variable[i])==241 or ord(variable[i])==252: # si es  ü o Ñ\n",
    "        variable[i]=chr(ord(variable[i])-32)             #se le reta 32 para que sea mayuscula\n",
    "        \n",
    "    if ord(variable[i])==225 or ord(variable[i])==233 or ord(variable[i])==237\\\n",
    "    or ord(variable[i])==243 or ord(variable[i])==250:  # Para las tildes minusculas\n",
    "        variable[i]=chr(ord(variable[i])-32)\n",
    "        \n",
    "    elif ord(variable[i])==193 or ord(variable[i])==201 or ord(variable[i])==205\\\n",
    "    or ord(variable[i])==211 or ord(variable[i])==218:  # Para las tildes mayusculas\n",
    "        variable[i]=chr(ord(variable[i])+32)\n",
    "        \n",
    "        \n",
    "l=\"\".join(variable) #Para convertir de listaa a cadena, queda en la variable l\n",
    "print(l)"
   ]
  },
  {
   "cell_type": "markdown",
   "metadata": {},
   "source": [
    "11. Escribir un programa que reciba una cadena de texto y reporte: \n",
    " \n",
    " - cuántas letras vocales en mayúscula se entraron \n",
    " -  cuántas letras con tilde se entraron (minúsculas y mayúsculas)\n",
    " -  cuántos dígitos se entraron\n",
    " - cuántos espacios se entraron; "
   ]
  },
  {
   "cell_type": "markdown",
   "metadata": {},
   "source": [
    "*En este caso se tienen 3 contadores para cada caso, e igualmente del caso anteriorse tiene encuenta en codigo ASCCI*"
   ]
  },
  {
   "cell_type": "code",
   "execution_count": 2,
   "metadata": {},
   "outputs": [
    {
     "name": "stdout",
     "output_type": "stream",
     "text": [
      "Ingrese texto: Holá COmo estas\n",
      "1 letras vocales en mayúscula se ingresaron\n",
      "1 Letras con tilde mayúscula y minusulas\n",
      "2 Espacios que entraron\n",
      "13 Digitos entraron\n"
     ]
    }
   ],
   "source": [
    "variable=input(\"Ingrese texto: \")                       # primero se introduce variable\n",
    "x=len(variable)                                         # se lee cuanto caracteres entraron\n",
    "l=0                                                     #primer contador para las letras vocales en mayuscula\n",
    "t=0                                                     # contador letras con tilde\n",
    "e=0                                                     # contador espacios \n",
    "\n",
    "for i in range(0,x):\n",
    "    if ord(variable[i])==65 or ord(variable[i])==69 or ord(variable[i])==73\\\n",
    "    or ord(variable[i])==79 or ord(variable[i])==85:    # para letras vocales en mayuscula\n",
    "        l=l+1                                           # se el suma al contador 1 cada que se cumple la condicion \n",
    "        \n",
    "    if ord(variable[i])==225 or ord(variable[i])==233 or ord(variable[i])==237\\\n",
    "    or ord(variable[i])==243 or ord(variable[i])==250 : #letras con tilde en mayuscula\n",
    "        t=t+1                                           # se el suma al contador 1 cada que se cumple la condicion \n",
    "        \n",
    "    elif ord(variable[i])==193 or ord(variable[i])==201 or ord(variable[i])==205\\\n",
    "    or ord(variable[i])==211 or ord(variable[i])==218: #letras con tilde en minuscula\n",
    "        t=t+1                                          # se el suma al contador 1 cada que se cumple la condicion \n",
    "        \n",
    "    if ord(variable[i])==32:                           # carecter de espacio\n",
    "        e=e+1                                          # se el suma al contador 1 cada que se cumple la condicion \n",
    "    \n",
    "print(l,\"letras vocales en mayúscula se ingresaron\")\n",
    "print(t,\"Letras con tilde mayúscula y minusulas\")\n",
    "print(e,\"Espacios que entraron\")\n",
    "print(x-e,\"Digitos entraron\")\n"
   ]
  },
  {
   "cell_type": "markdown",
   "metadata": {},
   "source": [
    "12. Hacer un programa que lea dos palabras (podrían estar en mayúscula o minúscula) y determine cual está primero en el diccionario. El programa debe soportar letras con tilde, la ü y la ñ. "
   ]
  },
  {
   "cell_type": "markdown",
   "metadata": {},
   "source": [
    "*En caso de que el programa encuentre dos letras iguales, podrán pasar dos\n",
    "cosas, 1. si las últimas letras de la palabra son iguales esto querrá decir\n",
    "que el código ya examinó todos los índices posibles y no encontró diferencias\n",
    "por tanto se examinarán las longitudes de las palabras, la palabra de menor\n",
    "longitud irá de primero en el diccionario, si las palabras tienen la misma\n",
    "longitud, se concluirá que las palabras son iguales. 2.se sumará +1 al contador i, para que repita el ciclo con el siguiente\n",
    "índice*"
   ]
  },
  {
   "cell_type": "code",
   "execution_count": 1,
   "metadata": {},
   "outputs": [
    {
     "name": "stdout",
     "output_type": "stream",
     "text": [
      "Escriba una palabra: Hola\n",
      "Escriba otra palabra: como\n",
      "como  está primero en el diccionario\n"
     ]
    }
   ],
   "source": [
    "a=str(input(\"Escriba una palabra: \"))\n",
    "b=str(input(\"Escriba otra palabra: \"))\n",
    "\n",
    "a= a.lower()                                     #y se pasan a minúsculas para mayor comodidad a la hora de la comparación\n",
    "b= b.lower()\n",
    "\n",
    "c= list(a)                                      #Se crean dos listas, una con las vocales normales y la otra con tildes \n",
    "d= list(b)\n",
    "                                                #esto permitirá al código convertir las vocales tildadas en sin tildes\n",
    "                                                #para facilitar la comparació\n",
    "\n",
    "U=['á','é','í','ó','ú','ü']                     #El programa irá de índice en índice chequeando si este posee á,é,í,ó o ú\n",
    "V=['a','e','i','o','u','u']                     #caso a acontecer se reemplazará por su homónima sin tilde\n",
    "\n",
    "\n",
    "\n",
    "for i in range(0,len(c)):                      #Lo siguiente se hará para definir el rango máximo a evaluar ya que no todas\n",
    "    for j in range(0,len(U)):                  #las palabras tienen la misma cantidad de caracteres, en este caso siempre\n",
    "                                               #se tomará la palabra de menor longitud \n",
    "        if c[i]== U[j]:\n",
    "            c[i]=V[j]\n",
    "            \n",
    "for i in range(0,len(d)):\n",
    "    for j in range(0,len(U)):\n",
    "        \n",
    "        if d[i]== U[j]:\n",
    "            d[i]=V[j]\n",
    "            \n",
    "Z=0\n",
    "if len(c)==len(d): Z=len(d)\n",
    "if len(c)>len(d): Z=len(d)\n",
    "else: Z=len(c)\n",
    "       \n",
    "                                              #El siguiente ciclo comparará los índices de cada palabra, y se establecerán\n",
    "                                              #condiciones para saber qué palabra está primero en el diccionario   \n",
    "for i in range(Z):\n",
    "    if c[i]>d[i]:\n",
    "            print(b, ' está primero en el diccionario')\n",
    "            break\n",
    "            \n",
    "    if c[i]<d[i]:\n",
    "        print(a, 'está primero en el diccionario')\n",
    "        break\n",
    "        \n",
    "    else:\n",
    "        if i==Z-1:\n",
    "            if len(c)>len(d):\n",
    "                print(b, \"está primero en el diccionario\")\n",
    "                \n",
    "            if len(c)<len(d):\n",
    "                print(a, 'está primero en el diccionario')\n",
    "                \n",
    "            else:\n",
    "                print(\"Las palabras están en la misma posición\")\n",
    "            \n",
    "            break\n",
    "\n",
    "        while c[i]==d[i]: \n",
    "            i+=1\n",
    "            break"
   ]
  },
  {
   "cell_type": "markdown",
   "metadata": {},
   "source": [
    "13.Escribir un programa que lea una cadena de texto y la imprima como un triángulo "
   ]
  },
  {
   "cell_type": "code",
   "execution_count": 3,
   "metadata": {},
   "outputs": [
    {
     "name": "stdout",
     "output_type": "stream",
     "text": [
      "Ingrese una frase: hola como estas espero muy te encuentres muy bien, te deseo un lindo dia\n",
      "\n",
      "\n",
      "                        h                         \n",
      "                       ola                        \n",
      "                      comoe                       \n",
      "                     stasesp                      \n",
      "                    eromuytee                     \n",
      "                   ncuentresmu                    \n",
      "                  ybien,tedeseo                   \n",
      "                    unlindodia                    \n",
      "                                                  \n",
      "                                                  \n",
      "                                                  \n",
      "                                                  \n",
      "                                                  \n",
      "                                                  \n",
      "                                                  \n",
      "                                                  \n",
      "                                                  \n",
      "                                                  \n",
      "                                                  \n",
      "                                                  \n",
      "                                                  \n",
      "                                                  \n",
      "                                                  \n",
      "                                                  \n",
      "                                                  \n",
      "                                                  \n",
      "                                                  \n",
      "                                                  \n",
      "                                                  \n",
      "                                                  \n",
      "                                                  \n",
      "                                                  \n",
      "                                                  \n",
      "                                                  \n",
      "                                                  \n",
      "                                                  \n",
      "                                                  \n",
      "                                                  \n",
      "                                                  \n",
      "                                                  \n",
      "                                                  \n",
      "                                                  \n",
      "                                                  \n",
      "                                                  \n",
      "                                                  \n",
      "                                                  \n",
      "                                                  \n",
      "                                                  \n",
      "                                                  \n",
      "                                                  \n",
      "                                                  \n",
      "                                                  \n",
      "                                                  \n",
      "                                                  \n",
      "                                                  \n",
      "                                                  \n",
      "                                                  \n",
      "                                                  \n"
     ]
    }
   ],
   "source": [
    "Cd= input('Ingrese una frase: ')\n",
    "Cd_2=Cd.replace(' ','')                             #Crea una cadena nueva quitando los espacios \n",
    "print('\\n')                                         #reprecenta un espacio solo por estetica\n",
    "\n",
    "for i in range(1,len(Cd_2)):\n",
    "    print(Cd_2[(i-1)**2:i**2].center(50))\n",
    "    \n",
    " #primera entrada tiene la posicion  cero, la primera entradadela segunda linea\n",
    " #tiene la posicion 1y la entrada final la posicion 3 de la cadena, para la tercera\n",
    " #linea se tiene que la primera posicion es 4 y la posicion final es 9 por lo tanto\n",
    " #aca ya se puede observar un patron.\n",
    " #el patron que se observa es para un numero i que se mueve entre  1 y la longitud \n",
    " #la primera esta dada por (i-1)**2 y la ultima entrada de la linea va a ser i**2\n",
    " #ahora para centrar la piramide paa esto se pone el valor de 90 este puede ser\n",
    " #aleatorio  pero este valor tiene que ser muy alto para que no se distorcione\n",
    "    "
   ]
  },
  {
   "cell_type": "markdown",
   "metadata": {},
   "source": [
    "14.  Leer una cadena de texto y organice alfabéticamente cada una de las letras que la componen, repitiendo cada una tantas veces como se encuentra. Por ejemplo, la cadena ‘tarea importante’ será ‘aaaeeimnoprrttt’. (Note que no se incluyen los espacios"
   ]
  },
  {
   "cell_type": "code",
   "execution_count": 4,
   "metadata": {},
   "outputs": [
    {
     "name": "stdout",
     "output_type": "stream",
     "text": [
      "Escriba una cadena de texto: hola como estas espero que bien\n",
      "Su frase ordenada alfabéticamente es :\n",
      "aabceeeeehilmnoooopqrssstu"
     ]
    }
   ],
   "source": [
    "cd=input(\"Escriba una cadena de texto: \")            #Insertar cadena de texto\n",
    "a=[]                                                 #lista vacía para almacenar ord de cada i de la cd\n",
    "Cad=cd.lower()                                       #pasar cadena a minusculas para mayor facilidad\n",
    "\n",
    "for i in Cad:                                        #Para cada eleemnto en la cadena\n",
    "    x=ord(i)                                         #ord de codigo ASCII\n",
    "    a.append(x)                                      #agregar cada ord a la lista vacía\n",
    "    if x==32:                                        # si el ord es un espacio quitar de la lista\n",
    "        a.remove(x)\n",
    "    \n",
    "b=sorted(a)                                          # ordenar elementos de la lista de menor a mayor\n",
    "print('Su frase ordenada alfabéticamente es :')\n",
    "for i in b:\n",
    "    print(chr(i), end='')                            #imprimir el caracter correspondiente "
   ]
  },
  {
   "cell_type": "markdown",
   "metadata": {},
   "source": [
    "###### LISTAS"
   ]
  },
  {
   "cell_type": "markdown",
   "metadata": {},
   "source": [
    "15. Leer una lista de números enteros y enumerar cuantos elementos se repiten exactamente dos veces. Utilizar para tal fin el método count() de listas."
   ]
  },
  {
   "cell_type": "code",
   "execution_count": 5,
   "metadata": {},
   "outputs": [
    {
     "name": "stdout",
     "output_type": "stream",
     "text": [
      "Ingrese numero:253984255\n",
      "el numero 2 se repite exactamente2 veces\n"
     ]
    }
   ],
   "source": [
    "\n",
    "variable=input(\"Ingrese numero:\")\n",
    "\n",
    "x=len(variable)\n",
    "for i in range(0,x):                                 #el primer for es para evaluar el la primera posicion i \n",
    "    for j in range(i,x):                             # evalua la primera posicion con la otras \n",
    "        if i!=j:                                     # si la poscion es diferente para que no se evalue a si mismo\n",
    "            if variable[i]==variable[j]:             # se evalua si estos dos digitos \n",
    "                                                      #son iguales\n",
    "                    if variable.count(variable[i])==2: #  se cuenta si se repite exactamente dos veces\n",
    "                                                       \n",
    "                        print(\"el numero\",variable[i],\"se repite exactamente2 veces\")\n"
   ]
  },
  {
   "cell_type": "markdown",
   "metadata": {},
   "source": [
    "16.  Leer una lista de números ya ordenados de forma ascendente y verificar que dicha lista está ordenada. Luego, leer un número e insertarlo en la lista en la posición que le corresponde a dicho número"
   ]
  },
  {
   "cell_type": "code",
   "execution_count": 3,
   "metadata": {},
   "outputs": [
    {
     "name": "stdout",
     "output_type": "stream",
     "text": [
      "Introduzca una lista de números ordenada de forma ascendente[2,3,4,5,9]\n",
      "Introduzca un número8\n",
      "[2, 3, 4, 5, 8, 9]\n"
     ]
    }
   ],
   "source": [
    "import sys\n",
    "\n",
    "L = eval(input('Introduzca una lista de números ordenada de forma ascendente: '))\n",
    "\n",
    "cont=0\n",
    "       \n",
    "for i in range(0,len(L)-1):                      #Se evaluarán todos los índices, siendo que el siguiente sea igual o mayor\n",
    "    if L[i]<=L[(i+1)]:                           #de lo contrario el cont dejará de valer 0 y por tanto arrojará un error\n",
    "        cont=cont                                 \n",
    "    else:                               \n",
    "        cont=+1\n",
    "        \n",
    "if cont!=0:\n",
    "    \n",
    "    sys.exit('la lista no está ordenada de forma ascendente:  ')\n",
    "        \n",
    "\n",
    "\n",
    "N= int(input('Introduzca un número: '))\n",
    "\n",
    "for i in range(0,len(L)):\n",
    "    if N>=L[-1]:                                #Si el último dígito de la lista es menor que que N se adicionará el N a la\n",
    "                                                # lista y se romperá el código. De lo contrario, se ira iterando \n",
    "        L.append(N)                             # por índice hasta que se encuentre un número que sea menor o igual\n",
    "                                \n",
    "        break\n",
    "    \n",
    "    if N>L[i]:                                  #cumpliéndose esto, se insertará el N en la posición i que se estaba evaluando\n",
    "        i+=1                    \n",
    "    \n",
    "    if N<=L[i]:\n",
    "        L.insert(i,N)\n",
    "        break\n",
    "\n",
    "print(L)"
   ]
  },
  {
   "cell_type": "markdown",
   "metadata": {},
   "source": [
    "17.  Leer una lista y determinar cuál es el segundo elemento más grande de dicha lista. No utilice ningún tipo de algoritmo de ordenamiento para realizar este ejercicio.  \n",
    " "
   ]
  },
  {
   "cell_type": "code",
   "execution_count": 7,
   "metadata": {},
   "outputs": [
    {
     "name": "stdout",
     "output_type": "stream",
     "text": [
      "Ingrese una lista: 896452\n",
      "El elemento ingresado debe ser una lista. Intentelo de nuevo.\n",
      "Ingrese una lista: [8,9,7,5]\n",
      "\n",
      "La lista es: \n",
      "[8, 9, 7, 5]\n",
      "\n",
      "El segundo elemento mayor de la lista es: 8\n"
     ]
    }
   ],
   "source": [
    "Solo_Enteros = False\n",
    "#%%\n",
    "def Leer_L() :\n",
    "    '''Lee un elemento y corrobora que este sea una lista. \n",
    "    '''\n",
    "    while True   :\n",
    "        try      :\n",
    "            L= eval(input('Ingrese una lista: '))\n",
    "            if type(L) is list:\n",
    "                break\n",
    "            else :\n",
    "                print('El elemento ingresado debe ser una lista.\\\n",
    " Intentelo de nuevo.')\n",
    "        except SyntaxError :\n",
    "            print('El elemento ingresado debe ser una lista.\\\n",
    " Intentelo de nuevo.')\n",
    "    return L\n",
    "#%%\n",
    "### Funcion que comprueba que una lista tenga solo enteros\n",
    "def L_Enteros(L) :\n",
    "    ''' Comprueba que todos los elementos de una lista sean enteros.\n",
    "    '''\n",
    "    for Elem in L:\n",
    "        if type(Elem) is int:\n",
    "            X = True\n",
    "        else :\n",
    "            X= False\n",
    "            break\n",
    "    return X\n",
    "#%% CODIGO\n",
    "    \n",
    "# Este solicita la lista a ingresar y se asegura que sean solo numeros enteros\n",
    "\n",
    "while True:\n",
    "    if Solo_Enteros == False:\n",
    "        L = Leer_L()\n",
    "        Solo_Enteros = L_Enteros(L)\n",
    "        if Solo_Enteros == False:\n",
    "            print('La lista debe contener solo numeros enteros.\\\n",
    "intentelo de nuevo.')\n",
    "    else: break\n",
    "\n",
    "print()\n",
    "print('La lista es: ')\n",
    "print(L)\n",
    "print()\n",
    "V_1 = L[0]                                               #identifica la vairable M como el primer  elemento \n",
    "for i in L :                                             #de la lista, el ciclo for comparara cada elemento con\n",
    "    if i > V_1 :                                         #este, si encuentra un elemento mayor  este\n",
    "        V_1 = i                                          #pasara a ser M.\n",
    "                        \n",
    "while V_1 in L:                                          #Lo que hace esto esto es, dado que remove solo remueve                 \n",
    "    L.remove(V_1)                                        #un elemento a la vez,  mientras el mayor elemento este                     \n",
    "                                                         #en la lista continua removiendolo hasta que kpow.          \n",
    "\n",
    "if L== [] :                           \n",
    "    print('Todos los elementos de la lista son iguales.')    \n",
    "                                           \n",
    "#Esto se da en caso de que todos los elementos dela lista sean iguales y por lo\n",
    "#tanto la linea anterior elimine todos los elementos.\n",
    "    \n",
    "else:                                                    #Se repite el mismo proceso usado para hallar el mayor\n",
    "    V_2 = L[0]                                           #elemento de la lista, solo que al haber removido  este\n",
    "    for j in L :                                         #el segundo mayor de la lista original seria el  mayor        \n",
    "        if i > V_2 :                                     #de la lista modificada.\n",
    "            V_2 = j         \n",
    "    print(f'El segundo elemento mayor de la lista es:',V_2)\n"
   ]
  },
  {
   "cell_type": "markdown",
   "metadata": {},
   "source": [
    "18.  Leer una matriz cuadrada A, obtener su matriz triangular superior asociada U y determinar qué fila de U contiene la mayor cantidad de unos. "
   ]
  },
  {
   "cell_type": "code",
   "execution_count": 5,
   "metadata": {},
   "outputs": [
    {
     "name": "stdout",
     "output_type": "stream",
     "text": [
      "Ingrese una matriz cuadrada: [1,2,1],[5,6,7],[1,1,1]\n",
      "la matriz triangular superior es:  ([1, 2, 1], [0, 6, 7], [0, 0, 1])\n",
      "La fila con mayor cantidad de unos es:  [0, 6, 7]\n"
     ]
    }
   ],
   "source": [
    "L=eval(input('Ingrese una matriz cuadrada: '))\n",
    "   \n",
    "\n",
    "a=-1\n",
    "                                             #Se creará un ciclo for para cambiar los índices debajo de la diagonal por\n",
    "                                             #ceros, asimismo se creó un contador para que cada vez que se cambie de columna\n",
    "                                             #La el índice de la fila también aumente en 1, esto para que se conserve el\n",
    "                                             #patrón triangular\n",
    "for i in range(0,len(L)): \n",
    "    a+=1                                     #i = columnas\n",
    "    for j in range(1+a,len(L)):              #j = filas\n",
    "        L[j][i]=0\n",
    "             \n",
    "L2=[]                                         #lista vacía  donde se guardarán el número de veces que se repiten el 1 en una fila\n",
    "                                              # y el índice será el homólogo en l Lista L\n",
    "                                              \n",
    "for columna in range(0,len(L)):\n",
    "    c=0\n",
    "    for fila in range(0,len(L)):\n",
    "        \n",
    "        if L[columna][fila]==1:\n",
    "            c+=1\n",
    "        else:\n",
    "            continue\n",
    "    L2.append(c)\n",
    "    \n",
    "                                              #Se encuentra el máximo de la lista L2, se encuentra su índice, y la\n",
    "                                              #infomación de este índice se imprime en la lista L, que es la que posee las\n",
    "#                                             filas de la matriz diagonal\n",
    "\n",
    "print('la matriz triangular superior es: ', L)\n",
    "print('La fila con mayor cantidad de unos es: ', L[L2[max(L2)]])"
   ]
  },
  {
   "cell_type": "markdown",
   "metadata": {},
   "source": [
    "19.  Leer una lista e identifique la sublista más larga dentro de dicha lista que se encuentra ordenada ascendentemente. Por ejemplo, en la lista [5, 6, 5, 1, 2, 6, 9, 2, 4, 1] la mayor sublista ordenada es la [1, 2, 6, 9]. \n",
    " "
   ]
  },
  {
   "cell_type": "code",
   "execution_count": 6,
   "metadata": {},
   "outputs": [
    {
     "name": "stdout",
     "output_type": "stream",
     "text": [
      "Ingrese una lista:  [5,6,4,8,9,2,3,4,5,8,7,9]\n",
      "[2, 3, 4, 5, 8] es la sublista ordenada ascendentemente más larga\n"
     ]
    }
   ],
   "source": [
    "\n",
    "while True:\n",
    "    try:                                    # evalua si lo que se está introduciendo es una lista de números enteros\n",
    "        L=eval(input('Ingrese una lista:  '))\n",
    "        if type(L) == list:\n",
    "            for i in L:\n",
    "                if type(i) == int:\n",
    "                    continue\n",
    "                else: raise Exception\n",
    "            break\n",
    "        else: raise Exception\n",
    "    except Exception: print('El elemento ingresado debe ser una lista de\\\n",
    " numeros enteros')\n",
    "    \n",
    "                                                                       \n",
    "s = 0                                          #Se agrega un 0 a la lista para corregir error en el rango\n",
    "\n",
    "Lista_S = [[]]                                \n",
    "for i in range(0,len(L)-1):                    # Con un ciclo for se evalúa el índice i con el siguiente comparando si el\n",
    "    if L[i] <= L[i+1]:                         #segundo es mayor que el primero, sucediendo esto, se agregará a una sublista\n",
    "        Lista_S[s].append(L[i])                #cuando se llegue a un número que no cumpla esta condición, se agrega una nueva\n",
    "    else:                                      #sublista vacía y el programa seguirá iterando en busca del mismo patrón en los\n",
    "        Lista_S[s].append(L[i])                #siguientes índices\n",
    "        s += 1\n",
    "        Lista_S.append([])\n",
    "       \n",
    "LL=[]\n",
    "\n",
    "for i in Lista_S:\n",
    "    LL.append(len(i))\n",
    "    \n",
    "                                                #Se halla el máximo elemento de la lista LL y será impreso, en caso de \n",
    "                                                #encontrar dos elementos con la misma longitud, se imprimirán ambos por medio\n",
    "                                                #de pop, imprimiendo el primero, eliminándolo y dándole paso al segundo\n",
    "                                                #para ser evaluado con el comando \"max\" y ser impreso posteriormente\n",
    "a= max(LL)\n",
    "while a in LL:\n",
    "    \n",
    "    print(Lista_S.pop(LL.index(max(LL))), 'es la sublista ordenada\\\n",
    " ascendentemente más larga')\n",
    "    \n",
    "    LL.pop(LL.index(max(LL)))"
   ]
  },
  {
   "cell_type": "markdown",
   "metadata": {},
   "source": [
    "20.Hacer un programa que lea una matriz y la rote 90 grados en sentido antihorario. Imprimir la matriz resultante"
   ]
  },
  {
   "cell_type": "code",
   "execution_count": null,
   "metadata": {},
   "outputs": [],
   "source": [
    "\n",
    "import numpy as np\n",
    "\n",
    "while True:                                              #Para evaluar si si es una matriz o no tenga numeros enteros\n",
    "    try:\n",
    "        L= eval(input('Ingrese una matriz: '))\n",
    "        if type(L) is list:\n",
    "            for fila in L:\n",
    "                if type(fila) is list:\n",
    "                    for entrada in fila:\n",
    "                        if type(entrada) is not int:\n",
    "                            raise Exception\n",
    "                else:\n",
    "                    raise Exception\n",
    "        else:\n",
    "            raise Exception\n",
    "        \n",
    "        for Fila in L:\n",
    "            if len(Fila) != len(L[0]) :\n",
    "                raise Exception\n",
    "        break     \n",
    "    except:\n",
    "        print('Debe ser una matriz de numeros enteros con todas sus filas\\\n",
    " y columnas de igual longitud.')\n",
    "            \n",
    "\n",
    "\n",
    "                                                   #Con el siguiente comnando se imprimirá la matriz rotada dada una serie\n",
    "        \n",
    "print('La matriz rotada 90 grados es : ')\n",
    "for Columna in range(len(L[0])) :               \n",
    "    for Fila in range(len(L)) :\n",
    "        print('{:8}'.format(L[Fila][len(L[0])-Columna-1]),\\\n",
    "end = ' ')\n",
    "    print()\n",
    "    \n",
    "    \n",
    "a=np.rot90(L)\n",
    "print('la matriz rotada 90 grados es: ')\n",
    "print(a)"
   ]
  },
  {
   "cell_type": "code",
   "execution_count": null,
   "metadata": {},
   "outputs": [],
   "source": []
  }
 ],
 "metadata": {
  "kernelspec": {
   "display_name": "Python 3",
   "language": "python",
   "name": "python3"
  },
  "language_info": {
   "codemirror_mode": {
    "name": "ipython",
    "version": 3
   },
   "file_extension": ".py",
   "mimetype": "text/x-python",
   "name": "python",
   "nbconvert_exporter": "python",
   "pygments_lexer": "ipython3",
   "version": "3.7.3"
  }
 },
 "nbformat": 4,
 "nbformat_minor": 2
}
